{
 "cells": [
  {
   "cell_type": "code",
   "execution_count": 1,
   "id": "e3be3ef7",
   "metadata": {
    "papermill": {
     "duration": 0.128972,
     "end_time": "2021-10-05T07:20:33.474159",
     "exception": false,
     "start_time": "2021-10-05T07:20:33.345187",
     "status": "completed"
    },
    "tags": []
   },
   "outputs": [],
   "source": [
    "# This Python 3 environment comes with many helpful analytics libraries installed\n",
    "# It is defined by the kaggle/python Docker image: https://github.com/kaggle/docker-python\n",
    "# For example, here's several helpful packages to load\n",
    "\n",
    "import numpy as np # linear algebra\n",
    "import pandas as pd # data processing, CSV file I/O (e.g. pd.read_csv)\n",
    "\n",
    "# Input data files are available in the read-only \"../input/\" directory\n",
    "# For example, running this (by clicking run or pressing Shift+Enter) will list all files under the input directory\n",
    "\n",
    "\n",
    "\n",
    "# You can write up to 20GB to the current directory (/kaggle/working/) that gets preserved as output when you create a version using \"Save & Run All\" \n",
    "# You can also write temporary files to /kaggle/temp/, but they won't be saved outside of the current session"
   ]
  },
  {
   "cell_type": "code",
   "execution_count": 2,
   "id": "b018ffd5",
   "metadata": {
    "papermill": {
     "duration": 6.170828,
     "end_time": "2021-10-05T07:20:39.750523",
     "exception": false,
     "start_time": "2021-10-05T07:20:33.579695",
     "status": "completed"
    },
    "tags": []
   },
   "outputs": [],
   "source": [
    "import numpy as np\n",
    "from numpy import array\n",
    "import numpy.polynomial.polynomial as poly\n",
    "import pandas as pd\n",
    "import datetime as dt\n",
    "# import seaborn\n",
    "import matplotlib.pylab as plt\n",
    "import os\n",
    "import random\n",
    "import shutil\n",
    "import glob\n",
    "# import tensorflow as tf\n",
    "# from tensorflow import keras\n",
    "# from tensorflow.keras.models import Sequential\n",
    "# from tensorflow.keras.layers import Activation, Dense, Flatten, BatchNormalization, Conv2D, MaxPool2D, LSTM\n",
    "# from tensorflow.keras.optimizers import Adam\n",
    "# from tensorflow.keras.metrics import categorical_crossentropy\n",
    "# from tensorflow.keras.preprocessing.image import ImageDataGenerator\n",
    "from sklearn.metrics import confusion_matrix\n",
    "import itertools\n",
    "from sklearn.tree import DecisionTreeRegressor\n",
    "from sklearn.linear_model import LinearRegression\n",
    "from sklearn.ensemble import RandomForestRegressor\n",
    "from sklearn.model_selection import train_test_split\n",
    "from sklearn.metrics import mean_squared_error\n",
    "from sklearn.metrics import r2_score"
   ]
  },
  {
   "cell_type": "markdown",
   "id": "2808ad76-16f2-4d6f-90d1-14e6ad424b4a",
   "metadata": {},
   "source": [
    "## We did data imputation as we converted string into datetime for ml\n",
    "\n",
    "## Feature labels\n",
    "Date will be our X value to train which will predict our close which is y"
   ]
  },
  {
   "cell_type": "code",
   "execution_count": 3,
   "id": "ceff8262",
   "metadata": {
    "papermill": {
     "duration": 0.095963,
     "end_time": "2021-10-05T07:20:39.935150",
     "exception": false,
     "start_time": "2021-10-05T07:20:39.839187",
     "status": "completed"
    },
    "tags": []
   },
   "outputs": [],
   "source": [
    "# seaborn.set(rc={'figure.figsize':(16,8.27)})"
   ]
  },
  {
   "cell_type": "code",
   "execution_count": 4,
   "id": "bd9d46d7",
   "metadata": {
    "papermill": {
     "duration": 0.366809,
     "end_time": "2021-10-05T07:20:40.392985",
     "exception": false,
     "start_time": "2021-10-05T07:20:40.026176",
     "status": "completed"
    },
    "tags": []
   },
   "outputs": [],
   "source": [
    "df = pd.read_csv('indexData.csv')"
   ]
  },
  {
   "cell_type": "code",
   "execution_count": 5,
   "id": "bfa0f711",
   "metadata": {
    "papermill": {
     "duration": 0.115042,
     "end_time": "2021-10-05T07:20:40.598205",
     "exception": false,
     "start_time": "2021-10-05T07:20:40.483163",
     "status": "completed"
    },
    "tags": []
   },
   "outputs": [
    {
     "data": {
      "text/html": [
       "<div>\n",
       "<style scoped>\n",
       "    .dataframe tbody tr th:only-of-type {\n",
       "        vertical-align: middle;\n",
       "    }\n",
       "\n",
       "    .dataframe tbody tr th {\n",
       "        vertical-align: top;\n",
       "    }\n",
       "\n",
       "    .dataframe thead th {\n",
       "        text-align: right;\n",
       "    }\n",
       "</style>\n",
       "<table border=\"1\" class=\"dataframe\">\n",
       "  <thead>\n",
       "    <tr style=\"text-align: right;\">\n",
       "      <th></th>\n",
       "      <th>Index</th>\n",
       "      <th>Date</th>\n",
       "      <th>Open</th>\n",
       "      <th>High</th>\n",
       "      <th>Low</th>\n",
       "      <th>Close</th>\n",
       "      <th>Adj Close</th>\n",
       "      <th>Volume</th>\n",
       "    </tr>\n",
       "  </thead>\n",
       "  <tbody>\n",
       "    <tr>\n",
       "      <th>0</th>\n",
       "      <td>NYA</td>\n",
       "      <td>1965-12-31</td>\n",
       "      <td>528.690002</td>\n",
       "      <td>528.690002</td>\n",
       "      <td>528.690002</td>\n",
       "      <td>528.690002</td>\n",
       "      <td>528.690002</td>\n",
       "      <td>0.0</td>\n",
       "    </tr>\n",
       "    <tr>\n",
       "      <th>1</th>\n",
       "      <td>NYA</td>\n",
       "      <td>1966-01-03</td>\n",
       "      <td>527.210022</td>\n",
       "      <td>527.210022</td>\n",
       "      <td>527.210022</td>\n",
       "      <td>527.210022</td>\n",
       "      <td>527.210022</td>\n",
       "      <td>0.0</td>\n",
       "    </tr>\n",
       "    <tr>\n",
       "      <th>2</th>\n",
       "      <td>NYA</td>\n",
       "      <td>1966-01-04</td>\n",
       "      <td>527.840027</td>\n",
       "      <td>527.840027</td>\n",
       "      <td>527.840027</td>\n",
       "      <td>527.840027</td>\n",
       "      <td>527.840027</td>\n",
       "      <td>0.0</td>\n",
       "    </tr>\n",
       "    <tr>\n",
       "      <th>3</th>\n",
       "      <td>NYA</td>\n",
       "      <td>1966-01-05</td>\n",
       "      <td>531.119995</td>\n",
       "      <td>531.119995</td>\n",
       "      <td>531.119995</td>\n",
       "      <td>531.119995</td>\n",
       "      <td>531.119995</td>\n",
       "      <td>0.0</td>\n",
       "    </tr>\n",
       "    <tr>\n",
       "      <th>4</th>\n",
       "      <td>NYA</td>\n",
       "      <td>1966-01-06</td>\n",
       "      <td>532.070007</td>\n",
       "      <td>532.070007</td>\n",
       "      <td>532.070007</td>\n",
       "      <td>532.070007</td>\n",
       "      <td>532.070007</td>\n",
       "      <td>0.0</td>\n",
       "    </tr>\n",
       "  </tbody>\n",
       "</table>\n",
       "</div>"
      ],
      "text/plain": [
       "  Index        Date        Open        High         Low       Close  \\\n",
       "0   NYA  1965-12-31  528.690002  528.690002  528.690002  528.690002   \n",
       "1   NYA  1966-01-03  527.210022  527.210022  527.210022  527.210022   \n",
       "2   NYA  1966-01-04  527.840027  527.840027  527.840027  527.840027   \n",
       "3   NYA  1966-01-05  531.119995  531.119995  531.119995  531.119995   \n",
       "4   NYA  1966-01-06  532.070007  532.070007  532.070007  532.070007   \n",
       "\n",
       "    Adj Close  Volume  \n",
       "0  528.690002     0.0  \n",
       "1  527.210022     0.0  \n",
       "2  527.840027     0.0  \n",
       "3  531.119995     0.0  \n",
       "4  532.070007     0.0  "
      ]
     },
     "execution_count": 5,
     "metadata": {},
     "output_type": "execute_result"
    }
   ],
   "source": [
    "df.head()"
   ]
  },
  {
   "cell_type": "code",
   "execution_count": 6,
   "id": "1d34a502",
   "metadata": {
    "papermill": {
     "duration": 0.127118,
     "end_time": "2021-10-05T07:20:41.259318",
     "exception": false,
     "start_time": "2021-10-05T07:20:41.132200",
     "status": "completed"
    },
    "tags": []
   },
   "outputs": [
    {
     "data": {
      "text/plain": [
       "Index           0\n",
       "Date            0\n",
       "Open         2204\n",
       "High         2204\n",
       "Low          2204\n",
       "Close        2204\n",
       "Adj Close    2204\n",
       "Volume       2204\n",
       "dtype: int64"
      ]
     },
     "execution_count": 6,
     "metadata": {},
     "output_type": "execute_result"
    }
   ],
   "source": [
    "df.isnull().sum()"
   ]
  },
  {
   "cell_type": "markdown",
   "id": "d168d073-5f63-4756-8a4e-6cfe9347dad3",
   "metadata": {},
   "source": [
    "### we are converting string to actual datetime"
   ]
  },
  {
   "cell_type": "code",
   "execution_count": 7,
   "id": "e4c2b5f8",
   "metadata": {
    "papermill": {
     "duration": 0.133438,
     "end_time": "2021-10-05T07:20:41.483103",
     "exception": false,
     "start_time": "2021-10-05T07:20:41.349665",
     "status": "completed"
    },
    "tags": []
   },
   "outputs": [],
   "source": [
    "df[\"Date\"] = pd.to_datetime(df[\"Date\"])"
   ]
  },
  {
   "cell_type": "markdown",
   "id": "982e8316-5df3-436e-bb35-d556637a1b10",
   "metadata": {},
   "source": [
    "### we will check for the NASDAQ"
   ]
  },
  {
   "cell_type": "code",
   "execution_count": 8,
   "id": "f1d00f44",
   "metadata": {
    "papermill": {
     "duration": 0.107427,
     "end_time": "2021-10-05T07:20:41.681622",
     "exception": false,
     "start_time": "2021-10-05T07:20:41.574195",
     "status": "completed"
    },
    "tags": []
   },
   "outputs": [],
   "source": [
    "df_IXIC = df[df[\"Index\"].isin(['IXIC'])].sort_values('Date')"
   ]
  },
  {
   "cell_type": "code",
   "execution_count": 9,
   "id": "ead9ed4a",
   "metadata": {
    "papermill": {
     "duration": 0.114951,
     "end_time": "2021-10-05T07:20:41.888574",
     "exception": false,
     "start_time": "2021-10-05T07:20:41.773623",
     "status": "completed"
    },
    "tags": []
   },
   "outputs": [
    {
     "data": {
      "text/html": [
       "<div>\n",
       "<style scoped>\n",
       "    .dataframe tbody tr th:only-of-type {\n",
       "        vertical-align: middle;\n",
       "    }\n",
       "\n",
       "    .dataframe tbody tr th {\n",
       "        vertical-align: top;\n",
       "    }\n",
       "\n",
       "    .dataframe thead th {\n",
       "        text-align: right;\n",
       "    }\n",
       "</style>\n",
       "<table border=\"1\" class=\"dataframe\">\n",
       "  <thead>\n",
       "    <tr style=\"text-align: right;\">\n",
       "      <th></th>\n",
       "      <th>Index</th>\n",
       "      <th>Date</th>\n",
       "      <th>Open</th>\n",
       "      <th>High</th>\n",
       "      <th>Low</th>\n",
       "      <th>Close</th>\n",
       "      <th>Adj Close</th>\n",
       "      <th>Volume</th>\n",
       "    </tr>\n",
       "  </thead>\n",
       "  <tbody>\n",
       "    <tr>\n",
       "      <th>13948</th>\n",
       "      <td>IXIC</td>\n",
       "      <td>1971-02-05</td>\n",
       "      <td>100.000000</td>\n",
       "      <td>100.000000</td>\n",
       "      <td>100.000000</td>\n",
       "      <td>100.000000</td>\n",
       "      <td>100.000000</td>\n",
       "      <td>0.000000e+00</td>\n",
       "    </tr>\n",
       "    <tr>\n",
       "      <th>13949</th>\n",
       "      <td>IXIC</td>\n",
       "      <td>1971-02-08</td>\n",
       "      <td>100.839996</td>\n",
       "      <td>100.839996</td>\n",
       "      <td>100.839996</td>\n",
       "      <td>100.839996</td>\n",
       "      <td>100.839996</td>\n",
       "      <td>0.000000e+00</td>\n",
       "    </tr>\n",
       "    <tr>\n",
       "      <th>13950</th>\n",
       "      <td>IXIC</td>\n",
       "      <td>1971-02-09</td>\n",
       "      <td>100.760002</td>\n",
       "      <td>100.760002</td>\n",
       "      <td>100.760002</td>\n",
       "      <td>100.760002</td>\n",
       "      <td>100.760002</td>\n",
       "      <td>0.000000e+00</td>\n",
       "    </tr>\n",
       "    <tr>\n",
       "      <th>13951</th>\n",
       "      <td>IXIC</td>\n",
       "      <td>1971-02-10</td>\n",
       "      <td>100.690002</td>\n",
       "      <td>100.690002</td>\n",
       "      <td>100.690002</td>\n",
       "      <td>100.690002</td>\n",
       "      <td>100.690002</td>\n",
       "      <td>0.000000e+00</td>\n",
       "    </tr>\n",
       "    <tr>\n",
       "      <th>13952</th>\n",
       "      <td>IXIC</td>\n",
       "      <td>1971-02-11</td>\n",
       "      <td>101.449997</td>\n",
       "      <td>101.449997</td>\n",
       "      <td>101.449997</td>\n",
       "      <td>101.449997</td>\n",
       "      <td>101.449997</td>\n",
       "      <td>0.000000e+00</td>\n",
       "    </tr>\n",
       "    <tr>\n",
       "      <th>...</th>\n",
       "      <td>...</td>\n",
       "      <td>...</td>\n",
       "      <td>...</td>\n",
       "      <td>...</td>\n",
       "      <td>...</td>\n",
       "      <td>...</td>\n",
       "      <td>...</td>\n",
       "      <td>...</td>\n",
       "    </tr>\n",
       "    <tr>\n",
       "      <th>26633</th>\n",
       "      <td>IXIC</td>\n",
       "      <td>2021-05-24</td>\n",
       "      <td>13557.209960</td>\n",
       "      <td>13708.849610</td>\n",
       "      <td>13551.009770</td>\n",
       "      <td>13661.169920</td>\n",
       "      <td>13661.169920</td>\n",
       "      <td>3.490650e+09</td>\n",
       "    </tr>\n",
       "    <tr>\n",
       "      <th>26634</th>\n",
       "      <td>IXIC</td>\n",
       "      <td>2021-05-25</td>\n",
       "      <td>13721.540040</td>\n",
       "      <td>13751.139650</td>\n",
       "      <td>13631.799810</td>\n",
       "      <td>13657.169920</td>\n",
       "      <td>13657.169920</td>\n",
       "      <td>4.084480e+09</td>\n",
       "    </tr>\n",
       "    <tr>\n",
       "      <th>26635</th>\n",
       "      <td>IXIC</td>\n",
       "      <td>2021-05-26</td>\n",
       "      <td>13693.940430</td>\n",
       "      <td>13750.160160</td>\n",
       "      <td>13679.589840</td>\n",
       "      <td>13738.000000</td>\n",
       "      <td>13738.000000</td>\n",
       "      <td>4.231140e+09</td>\n",
       "    </tr>\n",
       "    <tr>\n",
       "      <th>26636</th>\n",
       "      <td>IXIC</td>\n",
       "      <td>2021-05-27</td>\n",
       "      <td>13742.589840</td>\n",
       "      <td>13776.519530</td>\n",
       "      <td>13701.629880</td>\n",
       "      <td>13736.280270</td>\n",
       "      <td>13736.280270</td>\n",
       "      <td>5.057550e+09</td>\n",
       "    </tr>\n",
       "    <tr>\n",
       "      <th>26637</th>\n",
       "      <td>IXIC</td>\n",
       "      <td>2021-05-28</td>\n",
       "      <td>13792.049810</td>\n",
       "      <td>13820.870120</td>\n",
       "      <td>13747.610350</td>\n",
       "      <td>13748.740230</td>\n",
       "      <td>13748.740230</td>\n",
       "      <td>4.435220e+09</td>\n",
       "    </tr>\n",
       "  </tbody>\n",
       "</table>\n",
       "<p>12690 rows × 8 columns</p>\n",
       "</div>"
      ],
      "text/plain": [
       "      Index       Date          Open          High           Low  \\\n",
       "13948  IXIC 1971-02-05    100.000000    100.000000    100.000000   \n",
       "13949  IXIC 1971-02-08    100.839996    100.839996    100.839996   \n",
       "13950  IXIC 1971-02-09    100.760002    100.760002    100.760002   \n",
       "13951  IXIC 1971-02-10    100.690002    100.690002    100.690002   \n",
       "13952  IXIC 1971-02-11    101.449997    101.449997    101.449997   \n",
       "...     ...        ...           ...           ...           ...   \n",
       "26633  IXIC 2021-05-24  13557.209960  13708.849610  13551.009770   \n",
       "26634  IXIC 2021-05-25  13721.540040  13751.139650  13631.799810   \n",
       "26635  IXIC 2021-05-26  13693.940430  13750.160160  13679.589840   \n",
       "26636  IXIC 2021-05-27  13742.589840  13776.519530  13701.629880   \n",
       "26637  IXIC 2021-05-28  13792.049810  13820.870120  13747.610350   \n",
       "\n",
       "              Close     Adj Close        Volume  \n",
       "13948    100.000000    100.000000  0.000000e+00  \n",
       "13949    100.839996    100.839996  0.000000e+00  \n",
       "13950    100.760002    100.760002  0.000000e+00  \n",
       "13951    100.690002    100.690002  0.000000e+00  \n",
       "13952    101.449997    101.449997  0.000000e+00  \n",
       "...             ...           ...           ...  \n",
       "26633  13661.169920  13661.169920  3.490650e+09  \n",
       "26634  13657.169920  13657.169920  4.084480e+09  \n",
       "26635  13738.000000  13738.000000  4.231140e+09  \n",
       "26636  13736.280270  13736.280270  5.057550e+09  \n",
       "26637  13748.740230  13748.740230  4.435220e+09  \n",
       "\n",
       "[12690 rows x 8 columns]"
      ]
     },
     "execution_count": 9,
     "metadata": {},
     "output_type": "execute_result"
    }
   ],
   "source": [
    "df_IXIC"
   ]
  },
  {
   "cell_type": "markdown",
   "id": "eda05da2-9ff6-4fbc-9cdb-07178d09c7c4",
   "metadata": {},
   "source": [
    "### So our total data for IXIC is"
   ]
  },
  {
   "cell_type": "code",
   "execution_count": 11,
   "id": "eccd5b63",
   "metadata": {
    "papermill": {
     "duration": 0.100632,
     "end_time": "2021-10-05T07:20:42.649481",
     "exception": false,
     "start_time": "2021-10-05T07:20:42.548849",
     "status": "completed"
    },
    "tags": []
   },
   "outputs": [],
   "source": [
    "df_IXIC_data_close = df_IXIC[[\"Date\",\"Close\"]]"
   ]
  },
  {
   "cell_type": "code",
   "execution_count": 12,
   "id": "79bf296a",
   "metadata": {
    "papermill": {
     "duration": 0.106338,
     "end_time": "2021-10-05T07:20:42.847908",
     "exception": false,
     "start_time": "2021-10-05T07:20:42.741570",
     "status": "completed"
    },
    "tags": []
   },
   "outputs": [
    {
     "data": {
      "text/html": [
       "<div>\n",
       "<style scoped>\n",
       "    .dataframe tbody tr th:only-of-type {\n",
       "        vertical-align: middle;\n",
       "    }\n",
       "\n",
       "    .dataframe tbody tr th {\n",
       "        vertical-align: top;\n",
       "    }\n",
       "\n",
       "    .dataframe thead th {\n",
       "        text-align: right;\n",
       "    }\n",
       "</style>\n",
       "<table border=\"1\" class=\"dataframe\">\n",
       "  <thead>\n",
       "    <tr style=\"text-align: right;\">\n",
       "      <th></th>\n",
       "      <th>Date</th>\n",
       "      <th>Close</th>\n",
       "    </tr>\n",
       "  </thead>\n",
       "  <tbody>\n",
       "    <tr>\n",
       "      <th>13948</th>\n",
       "      <td>1971-02-05</td>\n",
       "      <td>100.000000</td>\n",
       "    </tr>\n",
       "    <tr>\n",
       "      <th>13949</th>\n",
       "      <td>1971-02-08</td>\n",
       "      <td>100.839996</td>\n",
       "    </tr>\n",
       "    <tr>\n",
       "      <th>13950</th>\n",
       "      <td>1971-02-09</td>\n",
       "      <td>100.760002</td>\n",
       "    </tr>\n",
       "    <tr>\n",
       "      <th>13951</th>\n",
       "      <td>1971-02-10</td>\n",
       "      <td>100.690002</td>\n",
       "    </tr>\n",
       "    <tr>\n",
       "      <th>13952</th>\n",
       "      <td>1971-02-11</td>\n",
       "      <td>101.449997</td>\n",
       "    </tr>\n",
       "    <tr>\n",
       "      <th>...</th>\n",
       "      <td>...</td>\n",
       "      <td>...</td>\n",
       "    </tr>\n",
       "    <tr>\n",
       "      <th>26633</th>\n",
       "      <td>2021-05-24</td>\n",
       "      <td>13661.169920</td>\n",
       "    </tr>\n",
       "    <tr>\n",
       "      <th>26634</th>\n",
       "      <td>2021-05-25</td>\n",
       "      <td>13657.169920</td>\n",
       "    </tr>\n",
       "    <tr>\n",
       "      <th>26635</th>\n",
       "      <td>2021-05-26</td>\n",
       "      <td>13738.000000</td>\n",
       "    </tr>\n",
       "    <tr>\n",
       "      <th>26636</th>\n",
       "      <td>2021-05-27</td>\n",
       "      <td>13736.280270</td>\n",
       "    </tr>\n",
       "    <tr>\n",
       "      <th>26637</th>\n",
       "      <td>2021-05-28</td>\n",
       "      <td>13748.740230</td>\n",
       "    </tr>\n",
       "  </tbody>\n",
       "</table>\n",
       "<p>12690 rows × 2 columns</p>\n",
       "</div>"
      ],
      "text/plain": [
       "            Date         Close\n",
       "13948 1971-02-05    100.000000\n",
       "13949 1971-02-08    100.839996\n",
       "13950 1971-02-09    100.760002\n",
       "13951 1971-02-10    100.690002\n",
       "13952 1971-02-11    101.449997\n",
       "...          ...           ...\n",
       "26633 2021-05-24  13661.169920\n",
       "26634 2021-05-25  13657.169920\n",
       "26635 2021-05-26  13738.000000\n",
       "26636 2021-05-27  13736.280270\n",
       "26637 2021-05-28  13748.740230\n",
       "\n",
       "[12690 rows x 2 columns]"
      ]
     },
     "execution_count": 12,
     "metadata": {},
     "output_type": "execute_result"
    }
   ],
   "source": [
    "df_IXIC_data_close"
   ]
  },
  {
   "cell_type": "code",
   "execution_count": 13,
   "id": "d47cc03d",
   "metadata": {
    "papermill": {
     "duration": 0.105736,
     "end_time": "2021-10-05T07:20:43.047772",
     "exception": false,
     "start_time": "2021-10-05T07:20:42.942036",
     "status": "completed"
    },
    "tags": []
   },
   "outputs": [
    {
     "data": {
      "text/plain": [
       "Date     0\n",
       "Close    0\n",
       "dtype: int64"
      ]
     },
     "execution_count": 13,
     "metadata": {},
     "output_type": "execute_result"
    }
   ],
   "source": [
    "df_IXIC_data_close.isnull().sum()"
   ]
  },
  {
   "cell_type": "markdown",
   "id": "7e1d1e9b-565b-493e-b2c1-56984da6d8e5",
   "metadata": {},
   "source": [
    "### Again Checking to make sure if there is non value and we just drop it"
   ]
  },
  {
   "cell_type": "code",
   "execution_count": 15,
   "id": "74ac9fe4",
   "metadata": {
    "papermill": {
     "duration": 0.107033,
     "end_time": "2021-10-05T07:20:43.910199",
     "exception": false,
     "start_time": "2021-10-05T07:20:43.803166",
     "status": "completed"
    },
    "tags": []
   },
   "outputs": [],
   "source": [
    "df_IXIC_data_close_withoutnan = df_IXIC_data_close.dropna()"
   ]
  },
  {
   "cell_type": "markdown",
   "id": "c0aa884d-fed5-44dd-9257-d7ae7c9254cf",
   "metadata": {},
   "source": [
    "### final proof"
   ]
  },
  {
   "cell_type": "code",
   "execution_count": 16,
   "id": "707a677c",
   "metadata": {
    "papermill": {
     "duration": 0.106766,
     "end_time": "2021-10-05T07:20:44.167050",
     "exception": false,
     "start_time": "2021-10-05T07:20:44.060284",
     "status": "completed"
    },
    "tags": []
   },
   "outputs": [
    {
     "data": {
      "text/plain": [
       "Date     0\n",
       "Close    0\n",
       "dtype: int64"
      ]
     },
     "execution_count": 16,
     "metadata": {},
     "output_type": "execute_result"
    }
   ],
   "source": [
    "df_IXIC_data_close_withoutnan.isnull().sum()"
   ]
  },
  {
   "cell_type": "markdown",
   "id": "2bce0fca-bf82-4de4-8a1d-85978f3e95c7",
   "metadata": {},
   "source": [
    "# Our part"
   ]
  },
  {
   "cell_type": "code",
   "execution_count": 81,
   "id": "375cc610-e1da-48d4-816e-61b6092ad5b3",
   "metadata": {},
   "outputs": [
    {
     "ename": "TypeError",
     "evalue": "descriptor 'toordinal' for 'datetime.date' objects doesn't apply to a 'int' object",
     "output_type": "error",
     "traceback": [
      "\u001b[1;31m---------------------------------------------------------------------------\u001b[0m",
      "\u001b[1;31mTypeError\u001b[0m                                 Traceback (most recent call last)",
      "Input \u001b[1;32mIn [81]\u001b[0m, in \u001b[0;36m<cell line: 1>\u001b[1;34m()\u001b[0m\n\u001b[1;32m----> 1\u001b[0m df_IXIC_data_close_withoutnan\u001b[38;5;241m.\u001b[39mDate \u001b[38;5;241m=\u001b[39m \u001b[43mdf_IXIC_data_close_withoutnan\u001b[49m\u001b[38;5;241;43m.\u001b[39;49m\u001b[43mDate\u001b[49m\u001b[38;5;241;43m.\u001b[39;49m\u001b[43mmap\u001b[49m\u001b[43m(\u001b[49m\u001b[43mdt\u001b[49m\u001b[38;5;241;43m.\u001b[39;49m\u001b[43mdatetime\u001b[49m\u001b[38;5;241;43m.\u001b[39;49m\u001b[43mtoordinal\u001b[49m\u001b[43m)\u001b[49m\n",
      "File \u001b[1;32m~\\AppData\\Local\\Programs\\Python\\Python310\\lib\\site-packages\\pandas\\core\\series.py:4237\u001b[0m, in \u001b[0;36mSeries.map\u001b[1;34m(self, arg, na_action)\u001b[0m\n\u001b[0;32m   4162\u001b[0m \u001b[38;5;28;01mdef\u001b[39;00m \u001b[38;5;21mmap\u001b[39m(\u001b[38;5;28mself\u001b[39m, arg, na_action\u001b[38;5;241m=\u001b[39m\u001b[38;5;28;01mNone\u001b[39;00m) \u001b[38;5;241m-\u001b[39m\u001b[38;5;241m>\u001b[39m Series:\n\u001b[0;32m   4163\u001b[0m     \u001b[38;5;124;03m\"\"\"\u001b[39;00m\n\u001b[0;32m   4164\u001b[0m \u001b[38;5;124;03m    Map values of Series according to an input mapping or function.\u001b[39;00m\n\u001b[0;32m   4165\u001b[0m \n\u001b[1;32m   (...)\u001b[0m\n\u001b[0;32m   4235\u001b[0m \u001b[38;5;124;03m    dtype: object\u001b[39;00m\n\u001b[0;32m   4236\u001b[0m \u001b[38;5;124;03m    \"\"\"\u001b[39;00m\n\u001b[1;32m-> 4237\u001b[0m     new_values \u001b[38;5;241m=\u001b[39m \u001b[38;5;28;43mself\u001b[39;49m\u001b[38;5;241;43m.\u001b[39;49m\u001b[43m_map_values\u001b[49m\u001b[43m(\u001b[49m\u001b[43marg\u001b[49m\u001b[43m,\u001b[49m\u001b[43m \u001b[49m\u001b[43mna_action\u001b[49m\u001b[38;5;241;43m=\u001b[39;49m\u001b[43mna_action\u001b[49m\u001b[43m)\u001b[49m\n\u001b[0;32m   4238\u001b[0m     \u001b[38;5;28;01mreturn\u001b[39;00m \u001b[38;5;28mself\u001b[39m\u001b[38;5;241m.\u001b[39m_constructor(new_values, index\u001b[38;5;241m=\u001b[39m\u001b[38;5;28mself\u001b[39m\u001b[38;5;241m.\u001b[39mindex)\u001b[38;5;241m.\u001b[39m__finalize__(\n\u001b[0;32m   4239\u001b[0m         \u001b[38;5;28mself\u001b[39m, method\u001b[38;5;241m=\u001b[39m\u001b[38;5;124m\"\u001b[39m\u001b[38;5;124mmap\u001b[39m\u001b[38;5;124m\"\u001b[39m\n\u001b[0;32m   4240\u001b[0m     )\n",
      "File \u001b[1;32m~\\AppData\\Local\\Programs\\Python\\Python310\\lib\\site-packages\\pandas\\core\\base.py:880\u001b[0m, in \u001b[0;36mIndexOpsMixin._map_values\u001b[1;34m(self, mapper, na_action)\u001b[0m\n\u001b[0;32m    877\u001b[0m         \u001b[38;5;28;01mraise\u001b[39;00m \u001b[38;5;167;01mValueError\u001b[39;00m(msg)\n\u001b[0;32m    879\u001b[0m \u001b[38;5;66;03m# mapper is a function\u001b[39;00m\n\u001b[1;32m--> 880\u001b[0m new_values \u001b[38;5;241m=\u001b[39m \u001b[43mmap_f\u001b[49m\u001b[43m(\u001b[49m\u001b[43mvalues\u001b[49m\u001b[43m,\u001b[49m\u001b[43m \u001b[49m\u001b[43mmapper\u001b[49m\u001b[43m)\u001b[49m\n\u001b[0;32m    882\u001b[0m \u001b[38;5;28;01mreturn\u001b[39;00m new_values\n",
      "File \u001b[1;32m~\\AppData\\Local\\Programs\\Python\\Python310\\lib\\site-packages\\pandas\\_libs\\lib.pyx:2870\u001b[0m, in \u001b[0;36mpandas._libs.lib.map_infer\u001b[1;34m()\u001b[0m\n",
      "\u001b[1;31mTypeError\u001b[0m: descriptor 'toordinal' for 'datetime.date' objects doesn't apply to a 'int' object"
     ]
    }
   ],
   "source": [
    "df_IXIC_data_close_withoutnan.Date = df_IXIC_data_close_withoutnan.Date.map(dt.datetime.toordinal)"
   ]
  },
  {
   "cell_type": "code",
   "execution_count": 86,
   "id": "69135a63-2e3a-473e-a578-71b095a24d04",
   "metadata": {},
   "outputs": [],
   "source": [
    "X_train, X_test, y_train, y_test = train_test_split(df_IXIC_data_close_withoutnan['Date'], df_IXIC_data_close_withoutnan['Close'], test_size=0.3, random_state=42)"
   ]
  },
  {
   "cell_type": "code",
   "execution_count": 87,
   "id": "529386c7-527f-4516-b8c7-9b5a7046baa4",
   "metadata": {},
   "outputs": [
    {
     "data": {
      "text/plain": [
       "26421    737627\n",
       "21424    730370\n",
       "21177    730013\n",
       "21529    730523\n",
       "17096    724116\n",
       "          ...  \n",
       "25912    736887\n",
       "19139    727066\n",
       "19338    727354\n",
       "14808    720809\n",
       "21218    730070\n",
       "Name: Date, Length: 8883, dtype: int64"
      ]
     },
     "execution_count": 87,
     "metadata": {},
     "output_type": "execute_result"
    }
   ],
   "source": [
    "X_train"
   ]
  },
  {
   "cell_type": "code",
   "execution_count": 88,
   "id": "d5be326b-a7be-4bf5-815b-7e122d07a1c2",
   "metadata": {},
   "outputs": [
    {
     "data": {
      "text/plain": [
       "pandas.core.series.Series"
      ]
     },
     "execution_count": 88,
     "metadata": {},
     "output_type": "execute_result"
    }
   ],
   "source": [
    "type(X_train)"
   ]
  },
  {
   "cell_type": "code",
   "execution_count": 89,
   "id": "453394b1-bc8f-46f6-a279-175923155a65",
   "metadata": {},
   "outputs": [
    {
     "name": "stderr",
     "output_type": "stream",
     "text": [
      "C:\\Users\\SulabhShrestha\\AppData\\Local\\Temp\\ipykernel_16740\\2404535186.py:1: FutureWarning: Support for multi-dimensional indexing (e.g. `obj[:, None]`) is deprecated and will be removed in a future version.  Convert to a numpy array before indexing instead.\n",
      "  X_train = X_train[:, np.newaxis]\n"
     ]
    }
   ],
   "source": [
    "X_train = X_train[:, np.newaxis]"
   ]
  },
  {
   "cell_type": "code",
   "execution_count": 90,
   "id": "0ed3d987-efbb-49d4-a851-383784ceeceb",
   "metadata": {},
   "outputs": [
    {
     "data": {
      "text/plain": [
       "numpy.ndarray"
      ]
     },
     "execution_count": 90,
     "metadata": {},
     "output_type": "execute_result"
    }
   ],
   "source": [
    "type(X_train)"
   ]
  },
  {
   "cell_type": "code",
   "execution_count": 91,
   "id": "bd3eb068-e04d-498c-937d-4db2a8b5595b",
   "metadata": {},
   "outputs": [],
   "source": [
    "linear_reg = LinearRegression().fit(X_train, y_train)"
   ]
  },
  {
   "cell_type": "code",
   "execution_count": 92,
   "id": "9ff6f63c-e7f4-473a-b3fd-b5412795250d",
   "metadata": {},
   "outputs": [
    {
     "name": "stderr",
     "output_type": "stream",
     "text": [
      "C:\\Users\\SulabhShrestha\\AppData\\Local\\Temp\\ipykernel_16740\\4169426711.py:1: FutureWarning: Support for multi-dimensional indexing (e.g. `obj[:, None]`) is deprecated and will be removed in a future version.  Convert to a numpy array before indexing instead.\n",
      "  X_test = X_test[:, np.newaxis]\n"
     ]
    }
   ],
   "source": [
    "X_test = X_test[:, np.newaxis]"
   ]
  },
  {
   "cell_type": "code",
   "execution_count": 93,
   "id": "1c298ee9-093b-4a49-91bb-7ee57ab095fa",
   "metadata": {},
   "outputs": [],
   "source": [
    "pred_lr = linear_reg.predict(X_test)"
   ]
  },
  {
   "cell_type": "code",
   "execution_count": 94,
   "id": "08c6b246-70d6-4d43-9fe4-bb376445e25f",
   "metadata": {},
   "outputs": [
    {
     "data": {
      "text/plain": [
       "3807"
      ]
     },
     "execution_count": 94,
     "metadata": {},
     "output_type": "execute_result"
    }
   ],
   "source": [
    "len(pred_lr)"
   ]
  },
  {
   "cell_type": "code",
   "execution_count": 95,
   "id": "ff4e98df-41c4-43ba-8992-78f5cd0d5395",
   "metadata": {},
   "outputs": [
    {
     "data": {
      "text/plain": [
       "3807"
      ]
     },
     "execution_count": 95,
     "metadata": {},
     "output_type": "execute_result"
    }
   ],
   "source": [
    "len(y_test)"
   ]
  },
  {
   "cell_type": "code",
   "execution_count": 96,
   "id": "8e278f7e-9083-40da-bb75-99fd0a5614e9",
   "metadata": {},
   "outputs": [],
   "source": [
    "mse = mean_squared_error(y_test, pred_lr)"
   ]
  },
  {
   "cell_type": "code",
   "execution_count": 97,
   "id": "1a0fb29c-59cd-4f00-893f-840f3346136c",
   "metadata": {},
   "outputs": [
    {
     "data": {
      "text/plain": [
       "2251228.1939363847"
      ]
     },
     "execution_count": 97,
     "metadata": {},
     "output_type": "execute_result"
    }
   ],
   "source": [
    "mse"
   ]
  },
  {
   "cell_type": "code",
   "execution_count": 98,
   "id": "56888287-f2f7-4a17-a544-056ff066b55b",
   "metadata": {},
   "outputs": [
    {
     "name": "stdout",
     "output_type": "stream",
     "text": [
      "Coefficient of determination: 0.64\n"
     ]
    }
   ],
   "source": [
    "print(\"Coefficient of determination: %.2f\" % r2_score(y_test, pred_lr))"
   ]
  },
  {
   "cell_type": "code",
   "execution_count": null,
   "id": "26a31928-2569-4e88-92ce-11fefe96f0c0",
   "metadata": {},
   "outputs": [],
   "source": [
    "model_rf"
   ]
  },
  {
   "cell_type": "code",
   "execution_count": null,
   "id": "0c1d0ec5-fee3-44cf-97df-42b7c1637d75",
   "metadata": {},
   "outputs": [],
   "source": []
  },
  {
   "cell_type": "code",
   "execution_count": 99,
   "id": "b89dae3e-ad6d-4955-bfb6-876023db6505",
   "metadata": {},
   "outputs": [
    {
     "name": "stdout",
     "output_type": "stream",
     "text": [
      "The mean absolute error of the optimal model is 1055.07 \n"
     ]
    }
   ],
   "source": [
    "from sklearn.metrics import mean_absolute_error\n",
    "\n",
    "model_error = mean_absolute_error(y_test, pred_lr)\n",
    "print(f\"The mean absolute error of the optimal model is {model_error:.2f} \")"
   ]
  },
  {
   "cell_type": "markdown",
   "id": "f55bc1ce-7fdf-4e33-a68d-5427ffea4aa5",
   "metadata": {},
   "source": [
    "## Decision Tree"
   ]
  },
  {
   "cell_type": "code",
   "execution_count": 117,
   "id": "b74704a5-8155-4e90-947f-9f7646346fc9",
   "metadata": {},
   "outputs": [],
   "source": [
    "from sklearn.metrics import accuracy_score"
   ]
  },
  {
   "cell_type": "code",
   "execution_count": 112,
   "id": "ecbaee29-774a-4f81-bc76-634fc7c3d759",
   "metadata": {},
   "outputs": [
    {
     "name": "stderr",
     "output_type": "stream",
     "text": [
      "C:\\Users\\SulabhShrestha\\AppData\\Local\\Programs\\Python\\Python310\\lib\\site-packages\\sklearn\\tree\\_classes.py:359: FutureWarning: Criterion 'mse' was deprecated in v1.0 and will be removed in version 1.2. Use `criterion='squared_error'` which is equivalent.\n",
      "  warnings.warn(\n"
     ]
    }
   ],
   "source": [
    "tree = DecisionTreeRegressor(criterion='mse',max_depth=25).fit(X_train, y_train)\n",
    "pred_tree = tree.predict(X_test)"
   ]
  },
  {
   "cell_type": "code",
   "execution_count": null,
   "id": "3b6ad68c-eb85-460a-af21-625caca4a92c",
   "metadata": {},
   "outputs": [],
   "source": []
  },
  {
   "cell_type": "code",
   "execution_count": 115,
   "id": "d2819536-01d7-40fd-98da-5a5dc37af12f",
   "metadata": {},
   "outputs": [
    {
     "data": {
      "text/plain": [
       "2102.9631321423763"
      ]
     },
     "execution_count": 115,
     "metadata": {},
     "output_type": "execute_result"
    }
   ],
   "source": [
    "mse = mean_squared_error(y_test, pred_tree)\n",
    "mse"
   ]
  },
  {
   "cell_type": "code",
   "execution_count": 113,
   "id": "490ebd08-6063-47e5-b1c7-a2e4f85adb08",
   "metadata": {},
   "outputs": [
    {
     "name": "stdout",
     "output_type": "stream",
     "text": [
      "Coefficient of determination: 1.00\n"
     ]
    }
   ],
   "source": [
    "print(\"Coefficient of determination: %.2f\" % r2_score(y_test, pred_tree))"
   ]
  },
  {
   "cell_type": "code",
   "execution_count": null,
   "id": "5a28153c-4d1c-47e8-9899-7be64a972471",
   "metadata": {},
   "outputs": [],
   "source": []
  },
  {
   "cell_type": "code",
   "execution_count": null,
   "id": "9015eeb2-9939-42d7-b3b8-132f16854f2f",
   "metadata": {},
   "outputs": [],
   "source": []
  },
  {
   "cell_type": "markdown",
   "id": "755b636c-6fca-41fc-8dec-d2c9334e2174",
   "metadata": {},
   "source": [
    "## Trying Random forest"
   ]
  },
  {
   "cell_type": "code",
   "execution_count": 100,
   "id": "cba666e3-9d6f-470e-b6db-fada1b5bd8bc",
   "metadata": {},
   "outputs": [],
   "source": [
    "model_rf = RandomForestRegressor(n_estimators=100).fit(X_train, y_train)"
   ]
  },
  {
   "cell_type": "code",
   "execution_count": 101,
   "id": "167329f7-2e7c-48a8-9c67-60629d3d0d6f",
   "metadata": {},
   "outputs": [],
   "source": [
    "pred_model_rf = model_rf.predict(X_test)\n"
   ]
  },
  {
   "cell_type": "code",
   "execution_count": 102,
   "id": "c09f95ea-15fe-4c49-929f-0de49eff0d75",
   "metadata": {},
   "outputs": [],
   "source": [
    "mse = mean_squared_error(y_test, pred_model_rf)"
   ]
  },
  {
   "cell_type": "code",
   "execution_count": 103,
   "id": "0457e7b2-8824-44de-ad71-aac14cfcdbe3",
   "metadata": {},
   "outputs": [
    {
     "data": {
      "text/plain": [
       "1565.913824876823"
      ]
     },
     "execution_count": 103,
     "metadata": {},
     "output_type": "execute_result"
    }
   ],
   "source": [
    "mse"
   ]
  },
  {
   "cell_type": "code",
   "execution_count": null,
   "id": "000d0d94-7fc1-46ed-b204-e100d4fbbf64",
   "metadata": {},
   "outputs": [],
   "source": []
  },
  {
   "cell_type": "code",
   "execution_count": 104,
   "id": "dbc733b4-244a-4481-a98e-e9e82154d8f7",
   "metadata": {},
   "outputs": [
    {
     "name": "stdout",
     "output_type": "stream",
     "text": [
      "Coefficient of determination: 1.00\n"
     ]
    }
   ],
   "source": [
    "print(\"Coefficient of determination: %.2f\" % r2_score(y_test, pred_model_rf))"
   ]
  },
  {
   "cell_type": "code",
   "execution_count": 137,
   "id": "64408b4a-7db0-4b2d-a491-1ea164701532",
   "metadata": {},
   "outputs": [
    {
     "data": {
      "text/plain": [
       "3807"
      ]
     },
     "execution_count": 137,
     "metadata": {},
     "output_type": "execute_result"
    }
   ],
   "source": [
    "len(pred_model_rf)"
   ]
  },
  {
   "cell_type": "code",
   "execution_count": 142,
   "id": "e6e91217-5e95-4d22-b976-c0a51f96eaf3",
   "metadata": {},
   "outputs": [],
   "source": [
    "sample_sequence = list(range(1, 3808, 1))\n"
   ]
  },
  {
   "cell_type": "code",
   "execution_count": 144,
   "id": "8c83c1f8-f91f-4378-b895-5a6f3f8d3a1a",
   "metadata": {},
   "outputs": [
    {
     "data": {
      "text/plain": [
       "<matplotlib.collections.PathCollection at 0x19694ba2d70>"
      ]
     },
     "execution_count": 144,
     "metadata": {},
     "output_type": "execute_result"
    },
    {
     "data": {
      "image/png": "[encoded data removed]",
      "text/plain": [
       "<Figure size 432x288 with 1 Axes>"
      ]
     },
     "metadata": {
      "needs_background": "light"
     },
     "output_type": "display_data"
    }
   ],
   "source": [
    "plt.scatter(sample_sequence, pred_model_rf)"
   ]
  },
  {
   "cell_type": "code",
   "execution_count": 138,
   "id": "6f38f69c-2618-43fa-923c-5b29483e3376",
   "metadata": {},
   "outputs": [
    {
     "data": {
      "text/plain": [
       "3807"
      ]
     },
     "execution_count": 138,
     "metadata": {},
     "output_type": "execute_result"
    }
   ],
   "source": [
    "len(y_test)"
   ]
  },
  {
   "cell_type": "code",
   "execution_count": 145,
   "id": "a6b1eae4-8872-46fb-8bad-7e50bb4a152a",
   "metadata": {},
   "outputs": [
    {
     "data": {
      "text/plain": [
       "<matplotlib.collections.PathCollection at 0x19694c0a710>"
      ]
     },
     "execution_count": 145,
     "metadata": {},
     "output_type": "execute_result"
    },
    {
     "data": {
      "image/png": "[encoded data removed]",
      "text/plain": [
       "<Figure size 432x288 with 1 Axes>"
      ]
     },
     "metadata": {
      "needs_background": "light"
     },
     "output_type": "display_data"
    }
   ],
   "source": [
    "plt.scatter(sample_sequence, y_test)"
   ]
  },
  {
   "cell_type": "code",
   "execution_count": 146,
   "id": "b7d05119-1bfc-4870-9322-572d10fb6e75",
   "metadata": {},
   "outputs": [
    {
     "data": {
      "text/plain": [
       "<matplotlib.legend.Legend at 0x19694c1cf70>"
      ]
     },
     "execution_count": 146,
     "metadata": {},
     "output_type": "execute_result"
    },
    {
     "data": {
      "image/png": "[encoded data removed]",
      "text/plain": [
       "<Figure size 432x288 with 1 Axes>"
      ]
     },
     "metadata": {
      "needs_background": "light"
     },
     "output_type": "display_data"
    }
   ],
   "source": [
    "# # Comparing\n",
    "plt.scatter(sample_sequence, y_test, label=\"original\")\n",
    "plt.scatter(sample_sequence, pred_model_rf, label=\"pred\")\n",
    "plt.legend()"
   ]
  },
  {
   "cell_type": "code",
   "execution_count": null,
   "id": "db58230a-12db-4dfd-b1f0-4172addc8493",
   "metadata": {},
   "outputs": [],
   "source": []
  },
  {
   "cell_type": "code",
   "execution_count": null,
   "id": "333236fa-fedf-40e3-a051-9441c9ddec26",
   "metadata": {},
   "outputs": [],
   "source": []
  },
  {
   "cell_type": "code",
   "execution_count": null,
   "id": "285b832a-280c-416d-bbcf-663796f61c18",
   "metadata": {},
   "outputs": [],
   "source": []
  },
  {
   "cell_type": "code",
   "execution_count": 131,
   "id": "9eb72710-6de1-48a2-bd1d-fc09175aadc7",
   "metadata": {},
   "outputs": [
    {
     "data": {
      "text/plain": [
       "<matplotlib.collections.PathCollection at 0x196a4171780>"
      ]
     },
     "execution_count": 131,
     "metadata": {},
     "output_type": "execute_result"
    },
    {
     "data": {
      "image/png": "[encoded data removed]",
      "text/plain": [
       "<Figure size 432x288 with 1 Axes>"
      ]
     },
     "metadata": {
      "needs_background": "light"
     },
     "output_type": "display_data"
    }
   ],
   "source": [
    "plt.scatter(X_test, y_test, label='GT')"
   ]
  },
  {
   "cell_type": "code",
   "execution_count": 132,
   "id": "83a97431-ca96-4322-a9f7-b1da4ff9ab2c",
   "metadata": {},
   "outputs": [
    {
     "data": {
      "text/plain": [
       "<matplotlib.legend.Legend at 0x196a4188fa0>"
      ]
     },
     "execution_count": 132,
     "metadata": {},
     "output_type": "execute_result"
    },
    {
     "data": {
      "image/png": "[encoded data removed]",
      "text/plain": [
       "<Figure size 432x288 with 1 Axes>"
      ]
     },
     "metadata": {
      "needs_background": "light"
     },
     "output_type": "display_data"
    }
   ],
   "source": [
    "# plt.scatter(y_test, X_test, label='GT')\n",
    "plt.scatter(X_test,pred_lr,label='Linear Regression')\n",
    "plt.scatter(X_test,pred_tree,label='Decision Tree')\n",
    "plt.scatter(X_test,pred_model_rf,label='Random Forest')\n",
    "plt.legend()"
   ]
  },
  {
   "cell_type": "code",
   "execution_count": null,
   "id": "d36554ac-7c87-4e15-9a40-40368ee76575",
   "metadata": {},
   "outputs": [],
   "source": []
  },
  {
   "cell_type": "code",
   "execution_count": 107,
   "id": "06f16bfc-d701-44c9-a54d-7869635d2c09",
   "metadata": {},
   "outputs": [
    {
     "name": "stdout",
     "output_type": "stream",
     "text": [
      "The mean absolute error of the optimal model is 17.20 \n"
     ]
    }
   ],
   "source": [
    "model_error = mean_absolute_error(y_test, pred_model_rf)\n",
    "print(f\"The mean absolute error of the optimal model is {model_error:.2f} \")"
   ]
  },
  {
   "cell_type": "code",
   "execution_count": 31,
   "id": "94c0a635-4269-4528-9279-1903ffe5af77",
   "metadata": {},
   "outputs": [],
   "source": [
    "# 5000 either it will give +-6218/4218\n",
    "# Reference: https://inria.github.io/scikit-learn-mooc/python_scripts/linear_regression_in_sklearn.html"
   ]
  },
  {
   "cell_type": "code",
   "execution_count": null,
   "id": "2573f502-210e-4d10-8790-eaeb2ef28fe6",
   "metadata": {},
   "outputs": [],
   "source": []
  },
  {
   "cell_type": "markdown",
   "id": "d70738e7-6587-4dbc-9b96-90122710d297",
   "metadata": {},
   "source": [
    "# Our part"
   ]
  },
  {
   "cell_type": "code",
   "execution_count": 26,
   "id": "09ab28bb",
   "metadata": {
    "papermill": {
     "duration": 0.109543,
     "end_time": "2021-10-05T07:20:44.579317",
     "exception": false,
     "start_time": "2021-10-05T07:20:44.469774",
     "status": "completed"
    },
    "tags": []
   },
   "outputs": [],
   "source": [
    "data_train = df_NYA_data_close_withoutnan[df_NYA_data_close_withoutnan.Date < \"2010-01-01\"]\n",
    "data_test = df_NYA_data_close_withoutnan[df_NYA_data_close_withoutnan.Date >= \"2010-01-01\"]"
   ]
  },
  {
   "cell_type": "code",
   "execution_count": 27,
   "id": "07231a09",
   "metadata": {
    "papermill": {
     "duration": 0.11282,
     "end_time": "2021-10-05T07:20:44.788306",
     "exception": false,
     "start_time": "2021-10-05T07:20:44.675486",
     "status": "completed"
    },
    "tags": []
   },
   "outputs": [
    {
     "data": {
      "text/html": [
       "<div>\n",
       "<style scoped>\n",
       "    .dataframe tbody tr th:only-of-type {\n",
       "        vertical-align: middle;\n",
       "    }\n",
       "\n",
       "    .dataframe tbody tr th {\n",
       "        vertical-align: top;\n",
       "    }\n",
       "\n",
       "    .dataframe thead th {\n",
       "        text-align: right;\n",
       "    }\n",
       "</style>\n",
       "<table border=\"1\" class=\"dataframe\">\n",
       "  <thead>\n",
       "    <tr style=\"text-align: right;\">\n",
       "      <th></th>\n",
       "      <th>Date</th>\n",
       "      <th>Close</th>\n",
       "    </tr>\n",
       "  </thead>\n",
       "  <tbody>\n",
       "    <tr>\n",
       "      <th>0</th>\n",
       "      <td>1965-12-31</td>\n",
       "      <td>528.690002</td>\n",
       "    </tr>\n",
       "    <tr>\n",
       "      <th>1</th>\n",
       "      <td>1966-01-03</td>\n",
       "      <td>527.210022</td>\n",
       "    </tr>\n",
       "    <tr>\n",
       "      <th>2</th>\n",
       "      <td>1966-01-04</td>\n",
       "      <td>527.840027</td>\n",
       "    </tr>\n",
       "    <tr>\n",
       "      <th>3</th>\n",
       "      <td>1966-01-05</td>\n",
       "      <td>531.119995</td>\n",
       "    </tr>\n",
       "    <tr>\n",
       "      <th>4</th>\n",
       "      <td>1966-01-06</td>\n",
       "      <td>532.070007</td>\n",
       "    </tr>\n",
       "    <tr>\n",
       "      <th>...</th>\n",
       "      <td>...</td>\n",
       "      <td>...</td>\n",
       "    </tr>\n",
       "    <tr>\n",
       "      <th>11072</th>\n",
       "      <td>2009-12-24</td>\n",
       "      <td>7255.000000</td>\n",
       "    </tr>\n",
       "    <tr>\n",
       "      <th>11073</th>\n",
       "      <td>2009-12-28</td>\n",
       "      <td>7261.240234</td>\n",
       "    </tr>\n",
       "    <tr>\n",
       "      <th>11074</th>\n",
       "      <td>2009-12-29</td>\n",
       "      <td>7252.189941</td>\n",
       "    </tr>\n",
       "    <tr>\n",
       "      <th>11075</th>\n",
       "      <td>2009-12-30</td>\n",
       "      <td>7241.240234</td>\n",
       "    </tr>\n",
       "    <tr>\n",
       "      <th>11076</th>\n",
       "      <td>2009-12-31</td>\n",
       "      <td>7184.959961</td>\n",
       "    </tr>\n",
       "  </tbody>\n",
       "</table>\n",
       "<p>11076 rows × 2 columns</p>\n",
       "</div>"
      ],
      "text/plain": [
       "            Date        Close\n",
       "0     1965-12-31   528.690002\n",
       "1     1966-01-03   527.210022\n",
       "2     1966-01-04   527.840027\n",
       "3     1966-01-05   531.119995\n",
       "4     1966-01-06   532.070007\n",
       "...          ...          ...\n",
       "11072 2009-12-24  7255.000000\n",
       "11073 2009-12-28  7261.240234\n",
       "11074 2009-12-29  7252.189941\n",
       "11075 2009-12-30  7241.240234\n",
       "11076 2009-12-31  7184.959961\n",
       "\n",
       "[11076 rows x 2 columns]"
      ]
     },
     "execution_count": 27,
     "metadata": {},
     "output_type": "execute_result"
    }
   ],
   "source": [
    "data_train"
   ]
  },
  {
   "cell_type": "code",
   "execution_count": null,
   "id": "d101ce01-9c82-49e7-9be6-03c3dba8b31e",
   "metadata": {},
   "outputs": [],
   "source": []
  },
  {
   "cell_type": "code",
   "execution_count": 28,
   "id": "4f895d33",
   "metadata": {
    "papermill": {
     "duration": 0.168675,
     "end_time": "2021-10-05T07:20:45.053983",
     "exception": false,
     "start_time": "2021-10-05T07:20:44.885308",
     "status": "completed"
    },
    "tags": []
   },
   "outputs": [
    {
     "name": "stderr",
     "output_type": "stream",
     "text": [
      "C:\\Users\\SulabhShrestha\\AppData\\Local\\Temp\\ipykernel_13732\\1826644791.py:1: SettingWithCopyWarning: \n",
      "A value is trying to be set on a copy of a slice from a DataFrame.\n",
      "Try using .loc[row_indexer,col_indexer] = value instead\n",
      "\n",
      "See the caveats in the documentation: https://pandas.pydata.org/pandas-docs/stable/user_guide/indexing.html#returning-a-view-versus-a-copy\n",
      "  data_train.Date = data_train.Date.map(dt.datetime.toordinal)\n"
     ]
    }
   ],
   "source": [
    "data_train.Date = data_train.Date.map(dt.datetime.toordinal)"
   ]
  },
  {
   "cell_type": "code",
   "execution_count": 51,
   "id": "71bf29f8",
   "metadata": {
    "papermill": {
     "duration": 0.107242,
     "end_time": "2021-10-05T07:20:45.259419",
     "exception": false,
     "start_time": "2021-10-05T07:20:45.152177",
     "status": "completed"
    },
    "tags": []
   },
   "outputs": [
    {
     "name": "stderr",
     "output_type": "stream",
     "text": [
      "C:\\Users\\SulabhShrestha\\AppData\\Local\\Temp\\ipykernel_13732\\767744527.py:1: FutureWarning: Support for multi-dimensional indexing (e.g. `obj[:, None]`) is deprecated and will be removed in a future version.  Convert to a numpy array before indexing instead.\n",
      "  X_train = data_train.Date[:, np.newaxis]\n"
     ]
    }
   ],
   "source": [
    "X_train = data_train.Date[:, np.newaxis]"
   ]
  },
  {
   "cell_type": "code",
   "execution_count": 52,
   "id": "40e74099",
   "metadata": {
    "papermill": {
     "duration": 0.106209,
     "end_time": "2021-10-05T07:20:45.464170",
     "exception": false,
     "start_time": "2021-10-05T07:20:45.357961",
     "status": "completed"
    },
    "tags": []
   },
   "outputs": [
    {
     "data": {
      "text/plain": [
       "array([[717701],\n",
       "       [717704],\n",
       "       [717705],\n",
       "       ...,\n",
       "       [733770],\n",
       "       [733771],\n",
       "       [733772]], dtype=int64)"
      ]
     },
     "execution_count": 52,
     "metadata": {},
     "output_type": "execute_result"
    }
   ],
   "source": [
    "X_train"
   ]
  },
  {
   "cell_type": "code",
   "execution_count": 53,
   "id": "935221ed-01fe-420b-ac68-2541cd23ba41",
   "metadata": {},
   "outputs": [
    {
     "data": {
      "text/plain": [
       "numpy.ndarray"
      ]
     },
     "execution_count": 53,
     "metadata": {},
     "output_type": "execute_result"
    }
   ],
   "source": [
    "type(X_train)"
   ]
  },
  {
   "cell_type": "code",
   "execution_count": 31,
   "id": "a2c5c407",
   "metadata": {
    "papermill": {
     "duration": 0.105123,
     "end_time": "2021-10-05T07:20:45.667768",
     "exception": false,
     "start_time": "2021-10-05T07:20:45.562645",
     "status": "completed"
    },
    "tags": []
   },
   "outputs": [],
   "source": [
    "y_train = data_train.Close"
   ]
  },
  {
   "cell_type": "code",
   "execution_count": 32,
   "id": "9e86ab98",
   "metadata": {
    "papermill": {
     "duration": 0.106861,
     "end_time": "2021-10-05T07:20:45.872514",
     "exception": false,
     "start_time": "2021-10-05T07:20:45.765653",
     "status": "completed"
    },
    "tags": []
   },
   "outputs": [
    {
     "data": {
      "text/plain": [
       "0"
      ]
     },
     "execution_count": 32,
     "metadata": {},
     "output_type": "execute_result"
    }
   ],
   "source": [
    "y_train.isnull().sum()"
   ]
  },
  {
   "cell_type": "code",
   "execution_count": 33,
   "id": "85d13761",
   "metadata": {
    "papermill": {
     "duration": 0.128031,
     "end_time": "2021-10-05T07:20:46.097875",
     "exception": false,
     "start_time": "2021-10-05T07:20:45.969844",
     "status": "completed"
    },
    "tags": []
   },
   "outputs": [
    {
     "name": "stderr",
     "output_type": "stream",
     "text": [
      "C:\\Users\\SulabhShrestha\\AppData\\Local\\Programs\\Python\\Python310\\lib\\site-packages\\sklearn\\tree\\_classes.py:359: FutureWarning: Criterion 'mse' was deprecated in v1.0 and will be removed in version 1.2. Use `criterion='squared_error'` which is equivalent.\n",
      "  warnings.warn(\n"
     ]
    }
   ],
   "source": [
    "tree = DecisionTreeRegressor(criterion='mse',max_depth=50).fit(X_train, y_train)"
   ]
  },
  {
   "cell_type": "code",
   "execution_count": 34,
   "id": "230c1475",
   "metadata": {
    "papermill": {
     "duration": 0.137773,
     "end_time": "2021-10-05T07:20:46.334222",
     "exception": false,
     "start_time": "2021-10-05T07:20:46.196449",
     "status": "completed"
    },
    "tags": []
   },
   "outputs": [],
   "source": [
    "linear_reg = LinearRegression().fit(X_train, y_train)"
   ]
  },
  {
   "cell_type": "code",
   "execution_count": 35,
   "id": "191bda25",
   "metadata": {
    "papermill": {
     "duration": 1.472692,
     "end_time": "2021-10-05T07:20:47.907352",
     "exception": false,
     "start_time": "2021-10-05T07:20:46.434660",
     "status": "completed"
    },
    "tags": []
   },
   "outputs": [],
   "source": [
    "model_rf = RandomForestRegressor(n_estimators=100).fit(X_train, y_train)"
   ]
  },
  {
   "cell_type": "code",
   "execution_count": 36,
   "id": "da3650b4",
   "metadata": {
    "papermill": {
     "duration": 0.183433,
     "end_time": "2021-10-05T07:20:48.189519",
     "exception": false,
     "start_time": "2021-10-05T07:20:48.006086",
     "status": "completed"
    },
    "tags": []
   },
   "outputs": [
    {
     "name": "stderr",
     "output_type": "stream",
     "text": [
      "C:\\Users\\SulabhShrestha\\AppData\\Local\\Temp\\ipykernel_13732\\4274694353.py:1: FutureWarning: Support for multi-dimensional indexing (e.g. `obj[:, None]`) is deprecated and will be removed in a future version.  Convert to a numpy array before indexing instead.\n",
      "  X_all = df_NYA_data_close_withoutnan.Date.map(dt.datetime.toordinal)[:, np.newaxis]\n"
     ]
    }
   ],
   "source": [
    "X_all = df_NYA_data_close_withoutnan.Date.map(dt.datetime.toordinal)[:, np.newaxis]"
   ]
  },
  {
   "cell_type": "code",
   "execution_count": 37,
   "id": "d7993b41",
   "metadata": {
    "papermill": {
     "duration": 0.107966,
     "end_time": "2021-10-05T07:20:48.398127",
     "exception": false,
     "start_time": "2021-10-05T07:20:48.290161",
     "status": "completed"
    },
    "tags": []
   },
   "outputs": [
    {
     "data": {
      "text/plain": [
       "array([[717701],\n",
       "       [717704],\n",
       "       [717705],\n",
       "       ...,\n",
       "       [737936],\n",
       "       [737937],\n",
       "       [737938]], dtype=int64)"
      ]
     },
     "execution_count": 37,
     "metadata": {},
     "output_type": "execute_result"
    }
   ],
   "source": [
    "X_all"
   ]
  },
  {
   "cell_type": "code",
   "execution_count": 38,
   "id": "bb5db762",
   "metadata": {
    "papermill": {
     "duration": 0.108522,
     "end_time": "2021-10-05T07:20:48.605110",
     "exception": false,
     "start_time": "2021-10-05T07:20:48.496588",
     "status": "completed"
    },
    "tags": []
   },
   "outputs": [
    {
     "data": {
      "text/plain": [
       "array([3], dtype=int64)"
      ]
     },
     "execution_count": 38,
     "metadata": {},
     "output_type": "execute_result"
    }
   ],
   "source": [
    "np.where(df_NYA_data_close_withoutnan['Date'] == '1966-01-05')[0]"
   ]
  },
  {
   "cell_type": "code",
   "execution_count": 39,
   "id": "4a335a96",
   "metadata": {
    "papermill": {
     "duration": 0.108442,
     "end_time": "2021-10-05T07:20:48.813123",
     "exception": false,
     "start_time": "2021-10-05T07:20:48.704681",
     "status": "completed"
    },
    "tags": []
   },
   "outputs": [
    {
     "data": {
      "text/plain": [
       "array([717706], dtype=int64)"
      ]
     },
     "execution_count": 39,
     "metadata": {},
     "output_type": "execute_result"
    }
   ],
   "source": [
    "X_all[3]"
   ]
  },
  {
   "cell_type": "code",
   "execution_count": 40,
   "id": "a27c4f69",
   "metadata": {
    "papermill": {
     "duration": 0.356329,
     "end_time": "2021-10-05T07:20:49.269540",
     "exception": false,
     "start_time": "2021-10-05T07:20:48.913211",
     "status": "completed"
    },
    "tags": []
   },
   "outputs": [],
   "source": [
    "pred_tree = tree.predict(X_all)\n",
    "pred_model_rf = model_rf.predict(X_all)\n",
    "pred_lr = linear_reg.predict(X_all)\n",
    "X = np.array(data_train.Date)\n",
    "y = np.array(data_train.Close)\n",
    "model_coef_polyfit = poly.polyfit(X, y, 3)\n",
    "X_new = np.array(df_NYA_data_close_withoutnan.Date.map(dt.datetime.toordinal))\n",
    "ffit = poly.polyval(X_new, model_coef_polyfit)\n",
    "X_new = pd.DataFrame(X_new,columns=['Date'])\n",
    "X_new = X_new.Date.map(dt.datetime.fromordinal)"
   ]
  },
  {
   "cell_type": "code",
   "execution_count": 41,
   "id": "3b0001ac",
   "metadata": {
    "papermill": {
     "duration": 0.58606,
     "end_time": "2021-10-05T07:20:49.955347",
     "exception": false,
     "start_time": "2021-10-05T07:20:49.369287",
     "status": "completed"
    },
    "tags": []
   },
   "outputs": [
    {
     "data": {
      "text/plain": [
       "<matplotlib.legend.Legend at 0x142d1233010>"
      ]
     },
     "execution_count": 41,
     "metadata": {},
     "output_type": "execute_result"
    },
    {
     "data": {
      "image/png": "[encoded data removed]",
      "text/plain": [
       "<Figure size 432x288 with 1 Axes>"
      ]
     },
     "metadata": {
      "needs_background": "light"
     },
     "output_type": "display_data"
    }
   ],
   "source": [
    "plt.plot(df_NYA_data_close_withoutnan.Date,df_NYA_data_close_withoutnan.Close,label='Row Data')\n",
    "plt.plot(df_NYA_data_close_withoutnan.Date,pred_tree,label='Decision Tree')\n",
    "plt.plot(df_NYA_data_close_withoutnan.Date,pred_lr,label='Linear Regression')\n",
    "plt.plot(df_NYA_data_close_withoutnan.Date,pred_model_rf,label='Random Forest')\n",
    "plt.plot(X_new,ffit,label='Fit using polyfit')\n",
    "plt.legend()"
   ]
  },
  {
   "cell_type": "code",
   "execution_count": 42,
   "id": "3f779547",
   "metadata": {
    "papermill": {
     "duration": 0.116816,
     "end_time": "2021-10-05T07:20:50.178140",
     "exception": false,
     "start_time": "2021-10-05T07:20:50.061324",
     "status": "completed"
    },
    "tags": []
   },
   "outputs": [
    {
     "data": {
      "text/plain": [
       "0.7973522670100477"
      ]
     },
     "execution_count": 42,
     "metadata": {},
     "output_type": "execute_result"
    }
   ],
   "source": [
    "tree.score(X_all,df_NYA_data_close_withoutnan.Close)"
   ]
  },
  {
   "cell_type": "code",
   "execution_count": 43,
   "id": "172473bf",
   "metadata": {
    "papermill": {
     "duration": 0.113692,
     "end_time": "2021-10-05T07:20:50.395260",
     "exception": false,
     "start_time": "2021-10-05T07:20:50.281568",
     "status": "completed"
    },
    "tags": []
   },
   "outputs": [
    {
     "data": {
      "text/plain": [
       "0.8281145573435111"
      ]
     },
     "execution_count": 43,
     "metadata": {},
     "output_type": "execute_result"
    }
   ],
   "source": [
    "linear_reg.score(X_all,df_NYA_data_close_withoutnan.Close)"
   ]
  },
  {
   "cell_type": "code",
   "execution_count": 44,
   "id": "0558887c",
   "metadata": {
    "papermill": {
     "duration": 0.247078,
     "end_time": "2021-10-05T07:20:50.744329",
     "exception": false,
     "start_time": "2021-10-05T07:20:50.497251",
     "status": "completed"
    },
    "tags": []
   },
   "outputs": [
    {
     "data": {
      "text/plain": [
       "0.7985765220705747"
      ]
     },
     "execution_count": 44,
     "metadata": {},
     "output_type": "execute_result"
    }
   ],
   "source": [
    "model_rf.score(X_all,df_NYA_data_close_withoutnan.Close)"
   ]
  },
  {
   "cell_type": "raw",
   "id": "bc53e095",
   "metadata": {
    "papermill": {
     "duration": 0.101974,
     "end_time": "2021-10-05T07:20:50.949919",
     "exception": false,
     "start_time": "2021-10-05T07:20:50.847945",
     "status": "completed"
    },
    "tags": []
   },
   "source": [
    "Redo it for another index "
   ]
  },
  {
   "cell_type": "code",
   "execution_count": 41,
   "id": "99ed9af4",
   "metadata": {
    "execution": {
     "iopub.execute_input": "2021-10-05T07:20:51.164806Z",
     "iopub.status.busy": "2021-10-05T07:20:51.164145Z",
     "iopub.status.idle": "2021-10-05T07:20:51.167813Z",
     "shell.execute_reply": "2021-10-05T07:20:51.168290Z",
     "shell.execute_reply.started": "2021-10-05T07:09:18.855032Z"
    },
    "papermill": {
     "duration": 0.115247,
     "end_time": "2021-10-05T07:20:51.168461",
     "exception": false,
     "start_time": "2021-10-05T07:20:51.053214",
     "status": "completed"
    },
    "tags": []
   },
   "outputs": [],
   "source": [
    "df_N100 = df[df[\"Index\"].isin(['N100'])].sort_values('Date')"
   ]
  },
  {
   "cell_type": "code",
   "execution_count": 42,
   "id": "3ee15dd3",
   "metadata": {
    "execution": {
     "iopub.execute_input": "2021-10-05T07:20:51.379990Z",
     "iopub.status.busy": "2021-10-05T07:20:51.379341Z",
     "iopub.status.idle": "2021-10-05T07:20:51.383084Z",
     "shell.execute_reply": "2021-10-05T07:20:51.383651Z",
     "shell.execute_reply.started": "2021-10-05T07:09:18.868435Z"
    },
    "papermill": {
     "duration": 0.111769,
     "end_time": "2021-10-05T07:20:51.383813",
     "exception": false,
     "start_time": "2021-10-05T07:20:51.272044",
     "status": "completed"
    },
    "tags": []
   },
   "outputs": [],
   "source": [
    "new_index = np.arange(0,len(df_N100.Close),1)"
   ]
  },
  {
   "cell_type": "code",
   "execution_count": 43,
   "id": "7d52ac7f",
   "metadata": {
    "execution": {
     "iopub.execute_input": "2021-10-05T07:20:51.599453Z",
     "iopub.status.busy": "2021-10-05T07:20:51.598500Z",
     "iopub.status.idle": "2021-10-05T07:20:51.602460Z",
     "shell.execute_reply": "2021-10-05T07:20:51.601801Z",
     "shell.execute_reply.started": "2021-10-05T07:09:18.879392Z"
    },
    "papermill": {
     "duration": 0.113015,
     "end_time": "2021-10-05T07:20:51.602602",
     "exception": false,
     "start_time": "2021-10-05T07:20:51.489587",
     "status": "completed"
    },
    "tags": []
   },
   "outputs": [
    {
     "data": {
      "text/plain": [
       "5507"
      ]
     },
     "execution_count": 43,
     "metadata": {},
     "output_type": "execute_result"
    }
   ],
   "source": [
    "len(df_N100.Close)"
   ]
  },
  {
   "cell_type": "code",
   "execution_count": 44,
   "id": "8fd964a9",
   "metadata": {
    "execution": {
     "iopub.execute_input": "2021-10-05T07:20:51.822621Z",
     "iopub.status.busy": "2021-10-05T07:20:51.821801Z",
     "iopub.status.idle": "2021-10-05T07:20:51.825221Z",
     "shell.execute_reply": "2021-10-05T07:20:51.825621Z",
     "shell.execute_reply.started": "2021-10-05T07:09:18.895971Z"
    },
    "papermill": {
     "duration": 0.120205,
     "end_time": "2021-10-05T07:20:51.825780",
     "exception": false,
     "start_time": "2021-10-05T07:20:51.705575",
     "status": "completed"
    },
    "tags": []
   },
   "outputs": [
    {
     "data": {
      "text/html": [
       "<div>\n",
       "<style scoped>\n",
       "    .dataframe tbody tr th:only-of-type {\n",
       "        vertical-align: middle;\n",
       "    }\n",
       "\n",
       "    .dataframe tbody tr th {\n",
       "        vertical-align: top;\n",
       "    }\n",
       "\n",
       "    .dataframe thead th {\n",
       "        text-align: right;\n",
       "    }\n",
       "</style>\n",
       "<table border=\"1\" class=\"dataframe\">\n",
       "  <thead>\n",
       "    <tr style=\"text-align: right;\">\n",
       "      <th></th>\n",
       "      <th>Date</th>\n",
       "      <th>Close</th>\n",
       "    </tr>\n",
       "  </thead>\n",
       "  <tbody>\n",
       "    <tr>\n",
       "      <th>106950</th>\n",
       "      <td>1999-12-31</td>\n",
       "      <td>1000.000000</td>\n",
       "    </tr>\n",
       "    <tr>\n",
       "      <th>106951</th>\n",
       "      <td>2000-01-03</td>\n",
       "      <td>996.770020</td>\n",
       "    </tr>\n",
       "    <tr>\n",
       "      <th>106952</th>\n",
       "      <td>2000-01-04</td>\n",
       "      <td>955.969971</td>\n",
       "    </tr>\n",
       "    <tr>\n",
       "      <th>106953</th>\n",
       "      <td>2000-01-05</td>\n",
       "      <td>930.260010</td>\n",
       "    </tr>\n",
       "    <tr>\n",
       "      <th>106954</th>\n",
       "      <td>2000-01-06</td>\n",
       "      <td>922.460022</td>\n",
       "    </tr>\n",
       "    <tr>\n",
       "      <th>...</th>\n",
       "      <td>...</td>\n",
       "      <td>...</td>\n",
       "    </tr>\n",
       "    <tr>\n",
       "      <th>112452</th>\n",
       "      <td>2021-05-27</td>\n",
       "      <td>1247.069946</td>\n",
       "    </tr>\n",
       "    <tr>\n",
       "      <th>112453</th>\n",
       "      <td>2021-05-28</td>\n",
       "      <td>1256.599976</td>\n",
       "    </tr>\n",
       "    <tr>\n",
       "      <th>112454</th>\n",
       "      <td>2021-05-31</td>\n",
       "      <td>1248.930054</td>\n",
       "    </tr>\n",
       "    <tr>\n",
       "      <th>112455</th>\n",
       "      <td>2021-06-01</td>\n",
       "      <td>1258.579956</td>\n",
       "    </tr>\n",
       "    <tr>\n",
       "      <th>112456</th>\n",
       "      <td>2021-06-02</td>\n",
       "      <td>1263.619995</td>\n",
       "    </tr>\n",
       "  </tbody>\n",
       "</table>\n",
       "<p>5507 rows × 2 columns</p>\n",
       "</div>"
      ],
      "text/plain": [
       "             Date        Close\n",
       "106950 1999-12-31  1000.000000\n",
       "106951 2000-01-03   996.770020\n",
       "106952 2000-01-04   955.969971\n",
       "106953 2000-01-05   930.260010\n",
       "106954 2000-01-06   922.460022\n",
       "...           ...          ...\n",
       "112452 2021-05-27  1247.069946\n",
       "112453 2021-05-28  1256.599976\n",
       "112454 2021-05-31  1248.930054\n",
       "112455 2021-06-01  1258.579956\n",
       "112456 2021-06-02  1263.619995\n",
       "\n",
       "[5507 rows x 2 columns]"
      ]
     },
     "execution_count": 44,
     "metadata": {},
     "output_type": "execute_result"
    }
   ],
   "source": [
    "df_N100_data_close = df_N100[[\"Date\",\"Close\"]]\n",
    "df_N100_data_close"
   ]
  },
  {
   "cell_type": "code",
   "execution_count": 45,
   "id": "ae5edb42",
   "metadata": {
    "execution": {
     "iopub.execute_input": "2021-10-05T07:20:52.040509Z",
     "iopub.status.busy": "2021-10-05T07:20:52.039863Z",
     "iopub.status.idle": "2021-10-05T07:20:52.043161Z",
     "shell.execute_reply": "2021-10-05T07:20:52.042576Z",
     "shell.execute_reply.started": "2021-10-05T07:09:18.917131Z"
    },
    "papermill": {
     "duration": 0.112614,
     "end_time": "2021-10-05T07:20:52.043282",
     "exception": false,
     "start_time": "2021-10-05T07:20:51.930668",
     "status": "completed"
    },
    "tags": []
   },
   "outputs": [
    {
     "data": {
      "text/plain": [
       "Int64Index([106950, 106951, 106952, 106953, 106954, 106955, 106956, 106957,\n",
       "            106958, 106959,\n",
       "            ...\n",
       "            112447, 112448, 112449, 112450, 112451, 112452, 112453, 112454,\n",
       "            112455, 112456],\n",
       "           dtype='int64', length=5507)"
      ]
     },
     "execution_count": 45,
     "metadata": {},
     "output_type": "execute_result"
    }
   ],
   "source": [
    "df_N100_data_close.index"
   ]
  },
  {
   "cell_type": "code",
   "execution_count": 46,
   "id": "c6092de6",
   "metadata": {
    "execution": {
     "iopub.execute_input": "2021-10-05T07:20:52.255571Z",
     "iopub.status.busy": "2021-10-05T07:20:52.254864Z",
     "iopub.status.idle": "2021-10-05T07:20:52.261434Z",
     "shell.execute_reply": "2021-10-05T07:20:52.261942Z",
     "shell.execute_reply.started": "2021-10-05T07:09:18.929735Z"
    },
    "papermill": {
     "duration": 0.114201,
     "end_time": "2021-10-05T07:20:52.262098",
     "exception": false,
     "start_time": "2021-10-05T07:20:52.147897",
     "status": "completed"
    },
    "tags": []
   },
   "outputs": [
    {
     "data": {
      "text/plain": [
       "Date      0\n",
       "Close    33\n",
       "dtype: int64"
      ]
     },
     "execution_count": 46,
     "metadata": {},
     "output_type": "execute_result"
    }
   ],
   "source": [
    "df_N100_data_close.isnull().sum()"
   ]
  },
  {
   "cell_type": "code",
   "execution_count": 47,
   "id": "5ffcf377",
   "metadata": {
    "execution": {
     "iopub.execute_input": "2021-10-05T07:20:52.476439Z",
     "iopub.status.busy": "2021-10-05T07:20:52.475804Z",
     "iopub.status.idle": "2021-10-05T07:20:52.481142Z",
     "shell.execute_reply": "2021-10-05T07:20:52.481686Z",
     "shell.execute_reply.started": "2021-10-05T07:09:18.942600Z"
    },
    "papermill": {
     "duration": 0.114707,
     "end_time": "2021-10-05T07:20:52.481858",
     "exception": false,
     "start_time": "2021-10-05T07:20:52.367151",
     "status": "completed"
    },
    "tags": []
   },
   "outputs": [],
   "source": [
    "df_N100_data_close_withoutnan = df_N100_data_close.dropna()"
   ]
  },
  {
   "cell_type": "code",
   "execution_count": 48,
   "id": "7035f7f8",
   "metadata": {
    "execution": {
     "iopub.execute_input": "2021-10-05T07:20:52.697557Z",
     "iopub.status.busy": "2021-10-05T07:20:52.696970Z",
     "iopub.status.idle": "2021-10-05T07:20:52.702487Z",
     "shell.execute_reply": "2021-10-05T07:20:52.702933Z",
     "shell.execute_reply.started": "2021-10-05T07:09:18.956088Z"
    },
    "papermill": {
     "duration": 0.114221,
     "end_time": "2021-10-05T07:20:52.703105",
     "exception": false,
     "start_time": "2021-10-05T07:20:52.588884",
     "status": "completed"
    },
    "tags": []
   },
   "outputs": [
    {
     "data": {
      "text/plain": [
       "5474"
      ]
     },
     "execution_count": 48,
     "metadata": {},
     "output_type": "execute_result"
    }
   ],
   "source": [
    "len(df_N100_data_close_withoutnan.Close)"
   ]
  },
  {
   "cell_type": "code",
   "execution_count": 49,
   "id": "8a21eaca",
   "metadata": {
    "execution": {
     "iopub.execute_input": "2021-10-05T07:20:52.921795Z",
     "iopub.status.busy": "2021-10-05T07:20:52.921068Z",
     "iopub.status.idle": "2021-10-05T07:20:52.924074Z",
     "shell.execute_reply": "2021-10-05T07:20:52.924520Z",
     "shell.execute_reply.started": "2021-10-05T07:09:18.967585Z"
    },
    "papermill": {
     "duration": 0.113949,
     "end_time": "2021-10-05T07:20:52.924661",
     "exception": false,
     "start_time": "2021-10-05T07:20:52.810712",
     "status": "completed"
    },
    "tags": []
   },
   "outputs": [
    {
     "data": {
      "text/plain": [
       "Date     0\n",
       "Close    0\n",
       "dtype: int64"
      ]
     },
     "execution_count": 49,
     "metadata": {},
     "output_type": "execute_result"
    }
   ],
   "source": [
    "df_N100_data_close_withoutnan.isnull().sum()"
   ]
  },
  {
   "cell_type": "code",
   "execution_count": 50,
   "id": "130076cf",
   "metadata": {
    "execution": {
     "iopub.execute_input": "2021-10-05T07:20:53.139964Z",
     "iopub.status.busy": "2021-10-05T07:20:53.137834Z",
     "iopub.status.idle": "2021-10-05T07:20:53.143643Z",
     "shell.execute_reply": "2021-10-05T07:20:53.144091Z",
     "shell.execute_reply.started": "2021-10-05T07:09:18.983837Z"
    },
    "papermill": {
     "duration": 0.114651,
     "end_time": "2021-10-05T07:20:53.144254",
     "exception": false,
     "start_time": "2021-10-05T07:20:53.029603",
     "status": "completed"
    },
    "tags": []
   },
   "outputs": [],
   "source": [
    "data_train_N100 = df_N100_data_close_withoutnan[df_N100_data_close_withoutnan.Date < \"2015-01-01\"]\n",
    "data_test_N100 = df_N100_data_close_withoutnan[df_N100_data_close_withoutnan.Date >= \"2015-01-01\"]"
   ]
  },
  {
   "cell_type": "code",
   "execution_count": 51,
   "id": "d477a1d8",
   "metadata": {
    "execution": {
     "iopub.execute_input": "2021-10-05T07:20:53.363851Z",
     "iopub.status.busy": "2021-10-05T07:20:53.362893Z",
     "iopub.status.idle": "2021-10-05T07:20:53.368532Z",
     "shell.execute_reply": "2021-10-05T07:20:53.368985Z",
     "shell.execute_reply.started": "2021-10-05T07:09:18.993822Z"
    },
    "papermill": {
     "duration": 0.11449,
     "end_time": "2021-10-05T07:20:53.369154",
     "exception": false,
     "start_time": "2021-10-05T07:20:53.254664",
     "status": "completed"
    },
    "tags": []
   },
   "outputs": [
    {
     "data": {
      "text/plain": [
       "Int64Index([106950, 106951, 106952, 106953, 106954, 106955, 106956, 106957,\n",
       "            106958, 106959,\n",
       "            ...\n",
       "            112447, 112448, 112449, 112450, 112451, 112452, 112453, 112454,\n",
       "            112455, 112456],\n",
       "           dtype='int64', length=5474)"
      ]
     },
     "execution_count": 51,
     "metadata": {},
     "output_type": "execute_result"
    }
   ],
   "source": [
    "df_N100_data_close_withoutnan.index"
   ]
  },
  {
   "cell_type": "code",
   "execution_count": 52,
   "id": "bce54bab",
   "metadata": {
    "execution": {
     "iopub.execute_input": "2021-10-05T07:20:53.588304Z",
     "iopub.status.busy": "2021-10-05T07:20:53.587711Z",
     "iopub.status.idle": "2021-10-05T07:20:53.615410Z",
     "shell.execute_reply": "2021-10-05T07:20:53.614911Z",
     "shell.execute_reply.started": "2021-10-05T07:09:19.006556Z"
    },
    "papermill": {
     "duration": 0.138956,
     "end_time": "2021-10-05T07:20:53.615545",
     "exception": false,
     "start_time": "2021-10-05T07:20:53.476589",
     "status": "completed"
    },
    "tags": []
   },
   "outputs": [
    {
     "name": "stderr",
     "output_type": "stream",
     "text": [
      "/opt/conda/lib/python3.7/site-packages/pandas/core/generic.py:5516: SettingWithCopyWarning: \n",
      "A value is trying to be set on a copy of a slice from a DataFrame.\n",
      "Try using .loc[row_indexer,col_indexer] = value instead\n",
      "\n",
      "See the caveats in the documentation: https://pandas.pydata.org/pandas-docs/stable/user_guide/indexing.html#returning-a-view-versus-a-copy\n",
      "  self[name] = value\n"
     ]
    }
   ],
   "source": [
    "data_train_N100.Date = data_train_N100.Date.map(dt.datetime.toordinal)"
   ]
  },
  {
   "cell_type": "code",
   "execution_count": 53,
   "id": "6cc2304f",
   "metadata": {
    "execution": {
     "iopub.execute_input": "2021-10-05T07:20:53.838163Z",
     "iopub.status.busy": "2021-10-05T07:20:53.837474Z",
     "iopub.status.idle": "2021-10-05T07:20:53.841222Z",
     "shell.execute_reply": "2021-10-05T07:20:53.840740Z",
     "shell.execute_reply.started": "2021-10-05T07:09:19.031087Z"
    },
    "papermill": {
     "duration": 0.118013,
     "end_time": "2021-10-05T07:20:53.841348",
     "exception": false,
     "start_time": "2021-10-05T07:20:53.723335",
     "status": "completed"
    },
    "tags": []
   },
   "outputs": [
    {
     "data": {
      "text/plain": [
       "106950    1000.000000\n",
       "106951     996.770020\n",
       "106952     955.969971\n",
       "106953     930.260010\n",
       "106954     922.460022\n",
       "             ...     \n",
       "110811     846.840027\n",
       "110812     843.859985\n",
       "110813     846.969971\n",
       "110814     834.340027\n",
       "110815     839.520020\n",
       "Name: Close, Length: 3834, dtype: float64"
      ]
     },
     "execution_count": 53,
     "metadata": {},
     "output_type": "execute_result"
    }
   ],
   "source": [
    "data_train_N100.Close"
   ]
  },
  {
   "cell_type": "code",
   "execution_count": 54,
   "id": "87f8af20",
   "metadata": {
    "execution": {
     "iopub.execute_input": "2021-10-05T07:20:54.055989Z",
     "iopub.status.busy": "2021-10-05T07:20:54.055373Z",
     "iopub.status.idle": "2021-10-05T07:20:54.060145Z",
     "shell.execute_reply": "2021-10-05T07:20:54.060609Z",
     "shell.execute_reply.started": "2021-10-05T07:09:19.048124Z"
    },
    "papermill": {
     "duration": 0.114193,
     "end_time": "2021-10-05T07:20:54.060789",
     "exception": false,
     "start_time": "2021-10-05T07:20:53.946596",
     "status": "completed"
    },
    "tags": []
   },
   "outputs": [
    {
     "name": "stderr",
     "output_type": "stream",
     "text": [
      "/opt/conda/lib/python3.7/site-packages/ipykernel_launcher.py:1: FutureWarning: Support for multi-dimensional indexing (e.g. `obj[:, None]`) is deprecated and will be removed in a future version.  Convert to a numpy array before indexing instead.\n",
      "  \"\"\"Entry point for launching an IPython kernel.\n"
     ]
    }
   ],
   "source": [
    "X_train_N100 = data_train_N100.Date[:, np.newaxis]\n",
    "y_train_N100 = data_train_N100.Close"
   ]
  },
  {
   "cell_type": "code",
   "execution_count": 55,
   "id": "c81ff5b7",
   "metadata": {
    "execution": {
     "iopub.execute_input": "2021-10-05T07:20:54.277961Z",
     "iopub.status.busy": "2021-10-05T07:20:54.277291Z",
     "iopub.status.idle": "2021-10-05T07:20:54.338482Z",
     "shell.execute_reply": "2021-10-05T07:20:54.337934Z",
     "shell.execute_reply.started": "2021-10-05T07:09:19.059575Z"
    },
    "papermill": {
     "duration": 0.171525,
     "end_time": "2021-10-05T07:20:54.338628",
     "exception": false,
     "start_time": "2021-10-05T07:20:54.167103",
     "status": "completed"
    },
    "tags": []
   },
   "outputs": [],
   "source": [
    "tree_N100 = DecisionTreeRegressor(criterion='mse',max_depth=50).fit(X_train_N100, y_train_N100)\n",
    "linear_reg_N100 = LinearRegression().fit(X_train_N100, y_train_N100)\n",
    "model_rf_N100 = RandomForestRegressor(n_estimators=10).fit(X_train_N100, y_train_N100)"
   ]
  },
  {
   "cell_type": "code",
   "execution_count": 56,
   "id": "84682f8d",
   "metadata": {
    "execution": {
     "iopub.execute_input": "2021-10-05T07:20:54.579943Z",
     "iopub.status.busy": "2021-10-05T07:20:54.574793Z",
     "iopub.status.idle": "2021-10-05T07:20:54.593018Z",
     "shell.execute_reply": "2021-10-05T07:20:54.593957Z",
     "shell.execute_reply.started": "2021-10-05T07:09:19.129605Z"
    },
    "papermill": {
     "duration": 0.147465,
     "end_time": "2021-10-05T07:20:54.594182",
     "exception": false,
     "start_time": "2021-10-05T07:20:54.446717",
     "status": "completed"
    },
    "tags": []
   },
   "outputs": [
    {
     "name": "stderr",
     "output_type": "stream",
     "text": [
      "/opt/conda/lib/python3.7/site-packages/ipykernel_launcher.py:1: FutureWarning: Support for multi-dimensional indexing (e.g. `obj[:, None]`) is deprecated and will be removed in a future version.  Convert to a numpy array before indexing instead.\n",
      "  \"\"\"Entry point for launching an IPython kernel.\n"
     ]
    }
   ],
   "source": [
    "X_all_N100 = df_N100_data_close_withoutnan.Date.map(dt.datetime.toordinal)[:, np.newaxis]"
   ]
  },
  {
   "cell_type": "code",
   "execution_count": 57,
   "id": "7a093fbc",
   "metadata": {
    "execution": {
     "iopub.execute_input": "2021-10-05T07:20:54.813007Z",
     "iopub.status.busy": "2021-10-05T07:20:54.812369Z",
     "iopub.status.idle": "2021-10-05T07:20:54.822890Z",
     "shell.execute_reply": "2021-10-05T07:20:54.823420Z",
     "shell.execute_reply.started": "2021-10-05T07:09:19.157953Z"
    },
    "papermill": {
     "duration": 0.121143,
     "end_time": "2021-10-05T07:20:54.823572",
     "exception": false,
     "start_time": "2021-10-05T07:20:54.702429",
     "status": "completed"
    },
    "tags": []
   },
   "outputs": [],
   "source": [
    "pred_tree_N100 = tree_N100.predict(X_all_N100)\n",
    "pred_lr_N100 = linear_reg_N100.predict(X_all_N100)\n",
    "pred_model_rf_N100 = model_rf_N100.predict(X_all_N100)"
   ]
  },
  {
   "cell_type": "code",
   "execution_count": 58,
   "id": "3fd80629",
   "metadata": {
    "execution": {
     "iopub.execute_input": "2021-10-05T07:20:55.040558Z",
     "iopub.status.busy": "2021-10-05T07:20:55.039919Z",
     "iopub.status.idle": "2021-10-05T07:20:55.080009Z",
     "shell.execute_reply": "2021-10-05T07:20:55.080494Z",
     "shell.execute_reply.started": "2021-10-05T07:09:19.173461Z"
    },
    "papermill": {
     "duration": 0.14964,
     "end_time": "2021-10-05T07:20:55.080653",
     "exception": false,
     "start_time": "2021-10-05T07:20:54.931013",
     "status": "completed"
    },
    "tags": []
   },
   "outputs": [],
   "source": [
    "X_N100 = np.array(data_train_N100.Date)\n",
    "y_N100 = np.array(data_train_N100.Close)\n",
    "model_coef_polyfit = poly.polyfit(X_N100, y_N100, 2)\n",
    "X_new_N100 = np.array(df_N100_data_close_withoutnan.Date.map(dt.datetime.toordinal))\n",
    "ffit_N100 = poly.polyval(X_new_N100, model_coef_polyfit)\n",
    "X_new_N100 = pd.DataFrame(X_new_N100,columns=['Date'])\n",
    "X_new_N100 = X_new_N100.Date.map(dt.datetime.fromordinal)"
   ]
  },
  {
   "cell_type": "code",
   "execution_count": 59,
   "id": "dca7b991",
   "metadata": {
    "execution": {
     "iopub.execute_input": "2021-10-05T07:20:55.297429Z",
     "iopub.status.busy": "2021-10-05T07:20:55.296859Z",
     "iopub.status.idle": "2021-10-05T07:20:55.725890Z",
     "shell.execute_reply": "2021-10-05T07:20:55.725310Z",
     "shell.execute_reply.started": "2021-10-05T07:09:19.206940Z"
    },
    "papermill": {
     "duration": 0.540738,
     "end_time": "2021-10-05T07:20:55.726049",
     "exception": false,
     "start_time": "2021-10-05T07:20:55.185311",
     "status": "completed"
    },
    "tags": []
   },
   "outputs": [
    {
     "data": {
      "text/plain": [
       "<matplotlib.legend.Legend at 0x7ffa199c0d10>"
      ]
     },
     "execution_count": 59,
     "metadata": {},
     "output_type": "execute_result"
    },
    {
     "data": {
      "image/png": "[encoded data removed]",
      "text/plain": [
       "<Figure size 1152x595.44 with 1 Axes>"
      ]
     },
     "metadata": {},
     "output_type": "display_data"
    }
   ],
   "source": [
    "plt.plot(df_N100_data_close_withoutnan.Date,df_N100_data_close_withoutnan.Close,label='Row Data')\n",
    "plt.plot(df_N100_data_close_withoutnan.Date,pred_tree_N100,label='Decision Tree')\n",
    "plt.plot(df_N100_data_close_withoutnan.Date,pred_lr_N100,label='Linear Regression')\n",
    "plt.plot(df_N100_data_close_withoutnan.Date,pred_model_rf_N100,label='Random Forest')\n",
    "plt.plot(X_new_N100,ffit_N100,label='Fit using Polyfit')\n",
    "plt.legend()"
   ]
  }
 ],
 "metadata": {
  "kernelspec": {
   "display_name": "Python 3 (ipykernel)",
   "language": "python",
   "name": "python3"
  },
  "language_info": {
   "codemirror_mode": {
    "name": "ipython",
    "version": 3
   },
   "file_extension": ".py",
   "mimetype": "text/x-python",
   "name": "python",
   "nbconvert_exporter": "python",
   "pygments_lexer": "ipython3",
   "version": "3.10.2"
  },
  "papermill": {
   "default_parameters": {},
   "duration": 456.193787,
   "end_time": "2021-10-05T07:28:01.741064",
   "environment_variables": {},
   "exception": null,
   "input_path": "__notebook__.ipynb",
   "output_path": "__notebook__.ipynb",
   "parameters": {},
   "start_time": "2021-10-05T07:20:25.547277",
   "version": "2.3.3"
  }
 },
 "nbformat": 4,
 "nbformat_minor": 5
}
